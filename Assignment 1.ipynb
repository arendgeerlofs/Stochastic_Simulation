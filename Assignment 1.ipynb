{
 "cells": [
  {
   "cell_type": "code",
   "execution_count": 27,
   "id": "df734629",
   "metadata": {},
   "outputs": [
    {
     "name": "stderr",
     "output_type": "stream",
     "text": [
      "C:\\Users\\arend\\anaconda3\\envs\\zeearend\\envs\\zeearend\\lib\\site-packages\\scipy\\__init__.py:138: UserWarning: A NumPy version >=1.16.5 and <1.23.0 is required for this version of SciPy (detected version 1.23.0)\n",
      "  warnings.warn(f\"A NumPy version >={np_minversion} and <{np_maxversion} is required for this version of \"\n"
     ]
    }
   ],
   "source": [
    "import math\n",
    "import numpy as np\n",
    "import seaborn as sns\n",
    "import matplotlib.pyplot as plt\n",
    "from mandelbrot import mandelbrot, mandelbrot_matrix, complex_matrix\n",
    "from monte_carlo_integration import mc_int_estimate"
   ]
  },
  {
   "cell_type": "code",
   "execution_count": null,
   "id": "d5552573",
   "metadata": {},
   "outputs": [],
   "source": [
    "def complex_matrix(xmin, xmax, ymin, ymax, pixel_density):\n",
    "    re = np.linspace(xmin, xmax, int((xmax - xmin) * pixel_density))\n",
    "    im = np.linspace(ymin, ymax, int((ymax - ymin) * pixel_density))\n",
    "    return re[np.newaxis, :] + im[:, np.newaxis] * 1j"
   ]
  },
  {
   "cell_type": "code",
   "execution_count": 4,
   "id": "75a1e1da",
   "metadata": {},
   "outputs": [],
   "source": [
    "def mandelbrot_matrix(matrix, iterations):\n",
    "    for i in range(np.shape(matrix)[0]):\n",
    "        for j in range(np.shape(matrix)[1]):\n",
    "            value = mandelbrot(matrix[i][j], iterations)\n",
    "            matrix[i][j] = value\n",
    "    return matrix\n",
    "\n",
    "def mandelbrot(c, iterations):\n",
    "    z = 0\n",
    "    for _ in range(iterations):\n",
    "        z = z**2 + c\n",
    "    return z >= -2 and z <= 2"
   ]
  },
  {
   "cell_type": "code",
   "execution_count": 54,
   "id": "baa84c88",
   "metadata": {},
   "outputs": [],
   "source": [
    "mat = complex_matrix(-2, 1, -1, 1, 100)"
   ]
  },
  {
   "cell_type": "code",
   "execution_count": null,
   "id": "2a75425e",
   "metadata": {},
   "outputs": [
    {
     "name": "stderr",
     "output_type": "stream",
     "text": [
      "<ipython-input-45-31573ef9bf53>:8: RuntimeWarning: overflow encountered in cdouble_scalars\n",
      "  z = z**2 + c\n",
      "<ipython-input-45-31573ef9bf53>:8: RuntimeWarning: invalid value encountered in cdouble_scalars\n",
      "  z = z**2 + c\n"
     ]
    }
   ],
   "source": [
    "for i in range(np.shape(mat)[0]):\n",
    "    for j in range(np.shape(mat)[1]):\n",
    "        v = mandelbrot(mat[i][j], 100)\n",
    "        mat[i][j] = v"
   ]
  },
  {
   "cell_type": "code",
   "execution_count": null,
   "id": "5cbde976",
   "metadata": {},
   "outputs": [],
   "source": [
    "sns.heatmap(np.real(mat), xticklabels=0, yticklabels =0, cbar=False, square=True)\n",
    "plt.show()"
   ]
  },
  {
   "cell_type": "code",
   "execution_count": null,
   "id": "e0ce0b35",
   "metadata": {},
   "outputs": [],
   "source": [
    "def mc_int_estimate(iterations, samples):\n",
    "    matrix = complex_matrix(-2, 1, -1, 1, 100)\n",
    "    mandelbrot = mandelbrot_matrix(matrix, iterations)\n",
    "    in_mandelbrot = 0\n",
    "    for i in range(samples):\n",
    "        if np.real(mandelbrot[np.random.randint(np.shape(mandelbrot)[0]), np.random.randint(np.shape(mandelbrot)[1])]):\n",
    "            in_mandelbrot += 1\n",
    "    return in_mandelbrot/samples * ((1- -2)* (1- - 1))"
   ]
  },
  {
   "cell_type": "code",
   "execution_count": null,
   "id": "2bbe84d2",
   "metadata": {},
   "outputs": [],
   "source": [
    "l = []\n",
    "for i in np.linspace(50, 500, 12):\n",
    "    l.append(mc_int_estimate(int(i), 50))\n",
    "plt.plot(l)\n"
   ]
  }
 ],
 "metadata": {
  "kernelspec": {
   "display_name": "Python 3",
   "language": "python",
   "name": "python3"
  },
  "language_info": {
   "codemirror_mode": {
    "name": "ipython",
    "version": 3
   },
   "file_extension": ".py",
   "mimetype": "text/x-python",
   "name": "python",
   "nbconvert_exporter": "python",
   "pygments_lexer": "ipython3",
   "version": "3.8.8"
  }
 },
 "nbformat": 4,
 "nbformat_minor": 5
}
