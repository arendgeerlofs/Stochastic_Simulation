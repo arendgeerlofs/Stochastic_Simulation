{
 "cells": [
  {
   "cell_type": "code",
   "execution_count": 27,
   "id": "df734629",
   "metadata": {},
   "outputs": [
    {
     "name": "stderr",
     "output_type": "stream",
     "text": [
      "C:\\Users\\arend\\anaconda3\\envs\\zeearend\\envs\\zeearend\\lib\\site-packages\\scipy\\__init__.py:138: UserWarning: A NumPy version >=1.16.5 and <1.23.0 is required for this version of SciPy (detected version 1.23.0)\n",
      "  warnings.warn(f\"A NumPy version >={np_minversion} and <{np_maxversion} is required for this version of \"\n"
     ]
    }
   ],
   "source": [
    "import math\n",
    "import numpy as np\n",
    "import seaborn as sns"
   ]
  },
  {
   "cell_type": "code",
   "execution_count": 4,
   "id": "75a1e1da",
   "metadata": {},
   "outputs": [],
   "source": [
    "mandelbrot_set = np.array([1j+ 1, 2j, 3j])"
   ]
  },
  {
   "cell_type": "code",
   "execution_count": 6,
   "id": "46018c73",
   "metadata": {},
   "outputs": [
    {
     "data": {
      "text/plain": [
       "array([1., 0., 0.])"
      ]
     },
     "execution_count": 6,
     "metadata": {},
     "output_type": "execute_result"
    }
   ],
   "source": [
    "np.imag(mandelbrot_set)\n",
    "np.real(mandelbrot_set)"
   ]
  },
  {
   "cell_type": "code",
   "execution_count": 45,
   "id": "96a1a50c",
   "metadata": {},
   "outputs": [],
   "source": [
    "def mandelbrot_iteration(z, c):\n",
    "    return z**2 + c\n",
    "\n",
    "def mandelbrot(c, num_iterations):\n",
    "    z = 0\n",
    "    z_list = np.array([z])\n",
    "    for _ in range(num_iterations):\n",
    "        z = z**2 + c\n",
    "        if z in z_list:\n",
    "            return True\n",
    "        z_list = np.append(z_list, z)\n",
    "    return False"
   ]
  },
  {
   "cell_type": "code",
   "execution_count": 17,
   "id": "e332d8e3",
   "metadata": {},
   "outputs": [],
   "source": [
    "def complex_matrix(xmin, xmax, ymin, ymax, pixel_density):\n",
    "    re = np.linspace(xmin, xmax, int((xmax - xmin) * pixel_density))\n",
    "    im = np.linspace(ymin, ymax, int((ymax - ymin) * pixel_density))\n",
    "    return re[np.newaxis, :] + im[:, np.newaxis] * 1j"
   ]
  },
  {
   "cell_type": "code",
   "execution_count": 54,
   "id": "baa84c88",
   "metadata": {},
   "outputs": [],
   "source": [
    "mat = complex_matrix(-2, 2, -2, 2, 100)"
   ]
  },
  {
   "cell_type": "code",
   "execution_count": null,
   "id": "2a75425e",
   "metadata": {},
   "outputs": [
    {
     "name": "stderr",
     "output_type": "stream",
     "text": [
      "<ipython-input-45-31573ef9bf53>:8: RuntimeWarning: overflow encountered in cdouble_scalars\n",
      "  z = z**2 + c\n",
      "<ipython-input-45-31573ef9bf53>:8: RuntimeWarning: invalid value encountered in cdouble_scalars\n",
      "  z = z**2 + c\n"
     ]
    }
   ],
   "source": [
    "for i in range(np.shape(mat)[0]):\n",
    "    for j in range(np.shape(mat)[1]):\n",
    "        v = mandelbrot(mat[i][j], 100)\n",
    "        mat[i][j] = v"
   ]
  },
  {
   "cell_type": "code",
   "execution_count": null,
   "id": "5cbde976",
   "metadata": {},
   "outputs": [],
   "source": [
    "print(y)\n",
    "print(n)"
   ]
  },
  {
   "cell_type": "code",
   "execution_count": null,
   "id": "e0ce0b35",
   "metadata": {},
   "outputs": [],
   "source": [
    "sns.heatmap(np.real(mat))"
   ]
  },
  {
   "cell_type": "code",
   "execution_count": null,
   "id": "2bbe84d2",
   "metadata": {},
   "outputs": [],
   "source": []
  }
 ],
 "metadata": {
  "kernelspec": {
   "display_name": "Python 3",
   "language": "python",
   "name": "python3"
  },
  "language_info": {
   "codemirror_mode": {
    "name": "ipython",
    "version": 3
   },
   "file_extension": ".py",
   "mimetype": "text/x-python",
   "name": "python",
   "nbconvert_exporter": "python",
   "pygments_lexer": "ipython3",
   "version": "3.8.8"
  }
 },
 "nbformat": 4,
 "nbformat_minor": 5
}
